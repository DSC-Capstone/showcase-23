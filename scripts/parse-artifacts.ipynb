{
 "cells": [
  {
   "cell_type": "code",
   "execution_count": 1,
   "id": "8174d411",
   "metadata": {},
   "outputs": [],
   "source": [
    "import pandas as pd\n",
    "import numpy as np\n",
    "import yaml\n",
    "import json\n",
    "import os\n",
    "import glob\n",
    "import re"
   ]
  },
  {
   "cell_type": "code",
   "execution_count": 2,
   "id": "772e9999",
   "metadata": {},
   "outputs": [],
   "source": [
    "ASGN_NAME = 'assignment_2739086_export'\n",
    "\n",
    "meta = yaml.safe_load(\n",
    "    open(f'{ASGN_NAME}/submission_metadata.yml', 'r')\n",
    "    )\n",
    "\n",
    "projs = pd.read_csv('Public-Facing Block Assignments – DSC 180AB, 2022-23 - Sheet1.csv')\n",
    "projs = projs.iloc[1:].reset_index(drop=True)\n",
    "projs.head()\n",
    "\n",
    "def load_artifacts(sub):\n",
    "    artifacts = json.load(open(f'{ASGN_NAME}/{sub}/artifacts.json', 'r'))\n",
    "    code = artifacts['project-repository']\n",
    "    code = code.replace('.git', '')\n",
    "    website = artifacts['project-website-url']\n",
    "    return code, website\n",
    "\n",
    "def load_title_abstract(sub):\n",
    "    f = open(f'{ASGN_NAME}/{sub}/title-abstract.txt', 'r').read()\n",
    "    try:\n",
    "        title = re.findall(r'Title:\\n?(.+)', f)[0]\n",
    "    except:\n",
    "        return(sub)\n",
    "    title = title.strip().replace('<', '').replace('>', '')\n",
    "    abstract = re.findall(r'Abstract:\\n?(.+)', f)[0]\n",
    "    return title, abstract\n",
    "\n",
    "def copy_poster(sub, group):\n",
    "    os.system(f'cp {ASGN_NAME}/{sub}/report.pdf ../reports/{group}.pdf')\n",
    "    \n",
    "out_df = pd.DataFrame(columns=['Group #', 'Code', 'Website', 'Title', 'Abstract'])\n",
    "\n",
    "for sub in meta:\n",
    "    try:\n",
    "        name = meta[sub][':submitters'][0][':name']\n",
    "    except Exception as e:\n",
    "        print(sub)\n",
    "    row = projs[projs['Names'].str.contains(name)]\n",
    "    if len(row) != 1:\n",
    "        print(f'name found {len(row)} times in names')\n",
    "    else:\n",
    "        row = row.iloc[0]\n",
    "        group = row['Group #']\n",
    "        try:\n",
    "            code, website = load_artifacts(sub)\n",
    "            title, abstract = load_title_abstract(sub)\n",
    "            copy_poster(sub, group)\n",
    "            s_dict = {'Group #': group, \n",
    "                      'Code': code, \n",
    "                      'Website': website, \n",
    "                      'Title': title,\n",
    "                      'Abstract': abstract}\n",
    "            out_df = pd.concat([out_df, pd.DataFrame([s_dict])])\n",
    "        except Exception as e:\n",
    "            print(e)\n",
    "    \n",
    "out_df = out_df.groupby('Group #').last().reset_index()\n",
    "out_df"
   ]
  }
 ],
 "metadata": {
  "kernelspec": {
   "display_name": "Python 3 (ipykernel)",
   "language": "python",
   "name": "python3"
  },
  "language_info": {
   "codemirror_mode": {
    "name": "ipython",
    "version": 3
   },
   "file_extension": ".py",
   "mimetype": "text/x-python",
   "name": "python",
   "nbconvert_exporter": "python",
   "pygments_lexer": "ipython3",
   "version": "3.9.7"
  }
 },
 "nbformat": 4,
 "nbformat_minor": 5
}
